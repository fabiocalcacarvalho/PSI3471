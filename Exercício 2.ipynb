{
 "cells": [
  {
   "cell_type": "markdown",
   "id": "a7bbf598",
   "metadata": {},
   "source": [
    "## Exercício para Entrega 2\n",
    "#### Professor: Magno Teofilo Madeira da Silva\n",
    "\n",
    "#### Aluno: \n",
    "    Fábio Calça Carvalho\n",
    "    NUSP: 11804716"
   ]
  },
  {
   "cell_type": "code",
   "execution_count": 1,
   "id": "334ee902",
   "metadata": {},
   "outputs": [],
   "source": [
    "import numpy as np\n",
    "import pandas as pd\n",
    "import matplotlib.pyplot as plt"
   ]
  },
  {
   "cell_type": "markdown",
   "id": "154b9a2e",
   "metadata": {},
   "source": [
    "### Entendendo o dataset"
   ]
  },
  {
   "cell_type": "code",
   "execution_count": 2,
   "id": "7308db93",
   "metadata": {},
   "outputs": [
    {
     "data": {
      "text/html": [
       "<div>\n",
       "<style scoped>\n",
       "    .dataframe tbody tr th:only-of-type {\n",
       "        vertical-align: middle;\n",
       "    }\n",
       "\n",
       "    .dataframe tbody tr th {\n",
       "        vertical-align: top;\n",
       "    }\n",
       "\n",
       "    .dataframe thead th {\n",
       "        text-align: right;\n",
       "    }\n",
       "</style>\n",
       "<table border=\"1\" class=\"dataframe\">\n",
       "  <thead>\n",
       "    <tr style=\"text-align: right;\">\n",
       "      <th></th>\n",
       "      <th>0</th>\n",
       "      <th>1</th>\n",
       "      <th>2</th>\n",
       "      <th>3</th>\n",
       "      <th>4</th>\n",
       "      <th>5</th>\n",
       "      <th>6</th>\n",
       "      <th>7</th>\n",
       "      <th>8</th>\n",
       "      <th>9</th>\n",
       "      <th>...</th>\n",
       "      <th>391</th>\n",
       "      <th>392</th>\n",
       "      <th>393</th>\n",
       "      <th>394</th>\n",
       "      <th>395</th>\n",
       "      <th>396</th>\n",
       "      <th>397</th>\n",
       "      <th>398</th>\n",
       "      <th>399</th>\n",
       "      <th>400</th>\n",
       "    </tr>\n",
       "  </thead>\n",
       "  <tbody>\n",
       "    <tr>\n",
       "      <th>0</th>\n",
       "      <td>0.0</td>\n",
       "      <td>0.0</td>\n",
       "      <td>0.0</td>\n",
       "      <td>0.0</td>\n",
       "      <td>0.0</td>\n",
       "      <td>0.0</td>\n",
       "      <td>1.0</td>\n",
       "      <td>0.0</td>\n",
       "      <td>0.0</td>\n",
       "      <td>0.0</td>\n",
       "      <td>...</td>\n",
       "      <td>0.0</td>\n",
       "      <td>0.0</td>\n",
       "      <td>0.0</td>\n",
       "      <td>0.0</td>\n",
       "      <td>0.0</td>\n",
       "      <td>0.0</td>\n",
       "      <td>0.0</td>\n",
       "      <td>0.0</td>\n",
       "      <td>0.0</td>\n",
       "      <td>-1.0</td>\n",
       "    </tr>\n",
       "    <tr>\n",
       "      <th>1</th>\n",
       "      <td>0.0</td>\n",
       "      <td>0.0</td>\n",
       "      <td>0.0</td>\n",
       "      <td>0.0</td>\n",
       "      <td>0.0</td>\n",
       "      <td>0.0</td>\n",
       "      <td>0.0</td>\n",
       "      <td>0.0</td>\n",
       "      <td>0.0</td>\n",
       "      <td>0.0</td>\n",
       "      <td>...</td>\n",
       "      <td>0.0</td>\n",
       "      <td>0.0</td>\n",
       "      <td>0.0</td>\n",
       "      <td>0.0</td>\n",
       "      <td>0.0</td>\n",
       "      <td>0.0</td>\n",
       "      <td>0.0</td>\n",
       "      <td>0.0</td>\n",
       "      <td>0.0</td>\n",
       "      <td>-1.0</td>\n",
       "    </tr>\n",
       "    <tr>\n",
       "      <th>2</th>\n",
       "      <td>0.0</td>\n",
       "      <td>0.0</td>\n",
       "      <td>0.0</td>\n",
       "      <td>0.0</td>\n",
       "      <td>0.0</td>\n",
       "      <td>0.0</td>\n",
       "      <td>0.0</td>\n",
       "      <td>0.0</td>\n",
       "      <td>0.0</td>\n",
       "      <td>0.0</td>\n",
       "      <td>...</td>\n",
       "      <td>0.0</td>\n",
       "      <td>0.0</td>\n",
       "      <td>0.0</td>\n",
       "      <td>0.0</td>\n",
       "      <td>0.0</td>\n",
       "      <td>0.0</td>\n",
       "      <td>0.0</td>\n",
       "      <td>0.0</td>\n",
       "      <td>0.0</td>\n",
       "      <td>-1.0</td>\n",
       "    </tr>\n",
       "    <tr>\n",
       "      <th>3</th>\n",
       "      <td>0.0</td>\n",
       "      <td>0.0</td>\n",
       "      <td>0.0</td>\n",
       "      <td>0.0</td>\n",
       "      <td>0.0</td>\n",
       "      <td>0.0</td>\n",
       "      <td>0.0</td>\n",
       "      <td>0.0</td>\n",
       "      <td>0.0</td>\n",
       "      <td>0.0</td>\n",
       "      <td>...</td>\n",
       "      <td>0.0</td>\n",
       "      <td>0.0</td>\n",
       "      <td>0.0</td>\n",
       "      <td>0.0</td>\n",
       "      <td>0.0</td>\n",
       "      <td>0.0</td>\n",
       "      <td>0.0</td>\n",
       "      <td>0.0</td>\n",
       "      <td>0.0</td>\n",
       "      <td>-1.0</td>\n",
       "    </tr>\n",
       "    <tr>\n",
       "      <th>4</th>\n",
       "      <td>0.0</td>\n",
       "      <td>0.0</td>\n",
       "      <td>0.0</td>\n",
       "      <td>0.0</td>\n",
       "      <td>0.0</td>\n",
       "      <td>0.0</td>\n",
       "      <td>0.0</td>\n",
       "      <td>0.0</td>\n",
       "      <td>0.0</td>\n",
       "      <td>0.0</td>\n",
       "      <td>...</td>\n",
       "      <td>0.0</td>\n",
       "      <td>0.0</td>\n",
       "      <td>0.0</td>\n",
       "      <td>0.0</td>\n",
       "      <td>0.0</td>\n",
       "      <td>0.0</td>\n",
       "      <td>0.0</td>\n",
       "      <td>0.0</td>\n",
       "      <td>0.0</td>\n",
       "      <td>1.0</td>\n",
       "    </tr>\n",
       "  </tbody>\n",
       "</table>\n",
       "<p>5 rows × 401 columns</p>\n",
       "</div>"
      ],
      "text/plain": [
       "     0    1    2    3    4    5    6    7    8    9  ...  391  392  393  394  \\\n",
       "0  0.0  0.0  0.0  0.0  0.0  0.0  1.0  0.0  0.0  0.0  ...  0.0  0.0  0.0  0.0   \n",
       "1  0.0  0.0  0.0  0.0  0.0  0.0  0.0  0.0  0.0  0.0  ...  0.0  0.0  0.0  0.0   \n",
       "2  0.0  0.0  0.0  0.0  0.0  0.0  0.0  0.0  0.0  0.0  ...  0.0  0.0  0.0  0.0   \n",
       "3  0.0  0.0  0.0  0.0  0.0  0.0  0.0  0.0  0.0  0.0  ...  0.0  0.0  0.0  0.0   \n",
       "4  0.0  0.0  0.0  0.0  0.0  0.0  0.0  0.0  0.0  0.0  ...  0.0  0.0  0.0  0.0   \n",
       "\n",
       "   395  396  397  398  399  400  \n",
       "0  0.0  0.0  0.0  0.0  0.0 -1.0  \n",
       "1  0.0  0.0  0.0  0.0  0.0 -1.0  \n",
       "2  0.0  0.0  0.0  0.0  0.0 -1.0  \n",
       "3  0.0  0.0  0.0  0.0  0.0 -1.0  \n",
       "4  0.0  0.0  0.0  0.0  0.0  1.0  \n",
       "\n",
       "[5 rows x 401 columns]"
      ]
     },
     "execution_count": 2,
     "metadata": {},
     "output_type": "execute_result"
    }
   ],
   "source": [
    "data_df = pd.read_csv(\"circles_and_squares.csv\")\n",
    "data_df.head()"
   ]
  },
  {
   "cell_type": "code",
   "execution_count": 3,
   "id": "a84395bd",
   "metadata": {},
   "outputs": [],
   "source": [
    "# Converter os dados para formato numpy\n",
    "data = data_df.to_numpy()"
   ]
  },
  {
   "cell_type": "code",
   "execution_count": 4,
   "id": "58ff8d24",
   "metadata": {
    "scrolled": true
   },
   "outputs": [
    {
     "data": {
      "text/plain": [
       "<matplotlib.image.AxesImage at 0x1d2b3d3b820>"
      ]
     },
     "execution_count": 4,
     "metadata": {},
     "output_type": "execute_result"
    },
    {
     "data": {
      "image/png": "[encoded data removed]",
      "text/plain": [
       "<Figure size 640x480 with 1 Axes>"
      ]
     },
     "metadata": {},
     "output_type": "display_data"
    }
   ],
   "source": [
    "img = data[0, :-1].reshape((20,20))\n",
    "plt.imshow(img, cmap='gray')"
   ]
  },
  {
   "cell_type": "markdown",
   "id": "62d28634",
   "metadata": {},
   "source": [
    "### Função de ativação (sinal)\n",
    "Será necessário definir a função de ativação $\\varphi(\\cdot)$ com o auxílio da biblioteca NumPy, que retornará 1 caso a entrada da função seja maior ou igual a 0, e -1 caso contrário."
   ]
  },
  {
   "cell_type": "code",
   "execution_count": 5,
   "id": "441c6312",
   "metadata": {},
   "outputs": [],
   "source": [
    "def sgn(x):\n",
    "    return np.where(x>=0, 1, -1)"
   ]
  },
  {
   "cell_type": "markdown",
   "id": "a943e742",
   "metadata": {},
   "source": [
    "### Treinamento do Percéptron\n",
    "Agora, será definido a função perceptron que recebe a matriz de entrada e os parâmetros $\\eta$ (passo da iteração), $N_e$ (número de épocas) e $N_b$ (tamanho do mini-batch) e retorna a matriz de pesos."
   ]
  },
  {
   "cell_type": "code",
   "execution_count": 6,
   "id": "11405dc9",
   "metadata": {},
   "outputs": [],
   "source": [
    "def perceptron(Xd, eta, Ne, Nb):\n",
    "    ones = np.ones([Xd.shape[0], 1]) # Coluna de uns para o bias\n",
    "    X = np.column_stack((ones, Xd[:,:-1])) # Criando a matriz X \n",
    "    d = Xd[:, -1] #Cria o vetor com as respostas\n",
    "    \n",
    "    #Criando os vetores utilizados no perceptron\n",
    "    w = np.zeros(len(X[1]))\n",
    "    v = np.zeros(len(X[:,1]))\n",
    "    y = np.zeros(len(X[:,1]))\n",
    "    e = np.zeros(len(X[:,1])) \n",
    "    \n",
    "    Nt = len(X)\n",
    "    Nmb = int(Nt/Nb - 1)\n",
    "    for k in range(1, Ne):\n",
    "        #Misturar a matriz\n",
    "        np.random.shuffle(Xd)\n",
    "        X = np.column_stack((ones, Xd[:,:-1])) # Criando a matriz X \n",
    "        d = Xd[:, -1] #Cria o vetor com as respostas\n",
    "        for l in range(Nmb):\n",
    "            v[l] = X[l].T @ w \n",
    "            y[l] = sgn(v[l])\n",
    "            e[l] = d[l]-y[l]\n",
    "            w = w + (eta/Nb)*X[l]*e[l]\n",
    "    return w"
   ]
  },
  {
   "cell_type": "markdown",
   "id": "c50c1a5e",
   "metadata": {},
   "source": [
    "Agora, será escolhido os parâmetros da função percéptron e será realizado o treinamento para obter os pesos. A matriz de treinamento será os 800 primeiros dados, deixando os 200 dados finais para a matriz de testes."
   ]
  },
  {
   "cell_type": "code",
   "execution_count": 7,
   "id": "0de55cca",
   "metadata": {},
   "outputs": [],
   "source": [
    "Xd_train = data[:800, :]\n",
    "eta = 1e-4\n",
    "epochs = 2000\n",
    "batch_size = 1\n",
    "weights = perceptron(Xd_train, eta, epochs, batch_size) #Define os pesos com os dados de treino"
   ]
  },
  {
   "cell_type": "markdown",
   "id": "b5c5a3db",
   "metadata": {},
   "source": [
    "#### Aplicação dos pesos nos dados de teste\n",
    "Finalmente, os pesos do percéptron serão aplicados ao teste para obter a acurácia do modelo. Para isso, será realizada a multiplicação da matriz de testes pelo vetor de pesos, para aplicar a função de ativação e comparar quantas vezes o valor obtido foi igual ao valor real dos dados originais."
   ]
  },
  {
   "cell_type": "code",
   "execution_count": 8,
   "id": "6c4769c2",
   "metadata": {},
   "outputs": [
    {
     "name": "stdout",
     "output_type": "stream",
     "text": [
      "A acurácia do perceptron nos testes foi de: 72.0 %\n"
     ]
    }
   ],
   "source": [
    "Xd_test = data[800:, :]\n",
    "ones = np.ones((Xd_test.shape[0],1))\n",
    "X_test = np.column_stack((ones,Xd_test[:,:-1]))\n",
    "accuracy = np.mean(sgn(X_test @ weights) == data[800:,-1])\n",
    "print(f\"A acurácia do perceptron nos testes foi de: {accuracy*100} %\")"
   ]
  }
 ],
 "metadata": {
  "kernelspec": {
   "display_name": "Python 3 (ipykernel)",
   "language": "python",
   "name": "python3"
  },
  "language_info": {
   "codemirror_mode": {
    "name": "ipython",
    "version": 3
   },
   "file_extension": ".py",
   "mimetype": "text/x-python",
   "name": "python",
   "nbconvert_exporter": "python",
   "pygments_lexer": "ipython3",
   "version": "3.10.9"
  }
 },
 "nbformat": 4,
 "nbformat_minor": 5
}
